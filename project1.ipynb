{
 "cells": [
  {
   "cell_type": "code",
   "execution_count": 1,
   "metadata": {
    "tags": []
   },
   "outputs": [],
   "source": [
    "# Useful starting lines\n",
    "%matplotlib inline\n",
    "import numpy as np\n",
    "import matplotlib.pyplot as plt\n",
    "%load_ext autoreload\n",
    "%autoreload 2"
   ]
  },
  {
   "cell_type": "markdown",
   "metadata": {},
   "source": [
    "## Load the training data into feature matrix, class labels, and event ids:"
   ]
  },
  {
   "cell_type": "code",
   "execution_count": 2,
   "metadata": {
    "collapsed": false,
    "jupyter": {
     "outputs_hidden": false
    }
   },
   "outputs": [],
   "source": [
    "from proj1_helpers import *\n",
    "DATA_TRAIN_PATH = '../Projet_1_data/train.csv' # TODO: download train data and supply path here \n",
    "Y, tX, ids = load_csv_data(DATA_TRAIN_PATH)"
   ]
  },
  {
   "cell_type": "markdown",
   "metadata": {},
   "source": [
    "# TRAINING MODELS"
   ]
  },
  {
   "cell_type": "code",
   "execution_count": 23,
   "metadata": {},
   "outputs": [],
   "source": [
    "from Implementations import*"
   ]
  },
  {
   "cell_type": "markdown",
   "metadata": {
    "tags": []
   },
   "source": [
    "# Least squares"
   ]
  },
  {
   "cell_type": "markdown",
   "metadata": {},
   "source": [
    "Preprocessing and parameters definition for optimization"
   ]
  },
  {
   "cell_type": "code",
   "execution_count": 15,
   "metadata": {},
   "outputs": [],
   "source": [
    "y, tx, ids, tX_mean, tX_std = preprocess_data(Y, tX, ids, mean=None, std=None, param={'Build_poly': False})\n",
    "\n",
    "seed = 1\n",
    "k_fold = 4 \n",
    "model = 'least_squares'\n",
    "degrees = np.arange(1,16,1)"
   ]
  },
  {
   "cell_type": "markdown",
   "metadata": {},
   "source": [
    "Parameters optimization"
   ]
  },
  {
   "cell_type": "code",
   "execution_count": 17,
   "metadata": {
    "scrolled": true,
    "tags": []
   },
   "outputs": [
    {
     "name": "stdout",
     "output_type": "stream",
     "text": [
      "Optimizing degree 1/15, model: least_squares, arguments: None\n",
      "Optimizing degree 2/15, model: least_squares, arguments: None\n",
      "Optimizing degree 3/15, model: least_squares, arguments: None\n",
      "Optimizing degree 4/15, model: least_squares, arguments: None\n",
      "Optimizing degree 5/15, model: least_squares, arguments: None\n",
      "Optimizing degree 6/15, model: least_squares, arguments: None\n",
      "Optimizing degree 7/15, model: least_squares, arguments: None\n",
      "Optimizing degree 8/15, model: least_squares, arguments: None\n",
      "Optimizing degree 9/15, model: least_squares, arguments: None\n",
      "Optimizing degree 10/15, model: least_squares, arguments: None\n",
      "Optimizing degree 11/15, model: least_squares, arguments: None\n",
      "Optimizing degree 12/15, model: least_squares, arguments: None\n",
      "Optimizing degree 13/15, model: least_squares, arguments: None\n",
      "Optimizing degree 14/15, model: least_squares, arguments: None\n",
      "Optimizing degree 15/15, model: least_squares, arguments: None\n"
     ]
    }
   ],
   "source": [
    "losses_tr, losses_te, accs_tr, accs_te = params_optimization(y, tx, k_fold, model, degrees, params = None, seed = seed, feedback = True)"
   ]
  },
  {
   "cell_type": "markdown",
   "metadata": {},
   "source": [
    "Here we optimized over degrees only, so we plot degree vs accuracy"
   ]
  },
  {
   "cell_type": "code",
   "execution_count": 28,
   "metadata": {},
   "outputs": [
    {
     "data": {
      "image/png": "[encoded data removed]",
      "text/plain": [
       "<Figure size 432x288 with 1 Axes>"
      ]
     },
     "metadata": {
      "needs_background": "light"
     },
     "output_type": "display_data"
    }
   ],
   "source": [
    "plot_param_vs_err(degrees, accs_tr, accs_te, model, 'Accuracy', save_img = True, img_name = 'least_squares_accuracy')"
   ]
  },
  {
   "cell_type": "markdown",
   "metadata": {},
   "source": [
    "Plot on MSE gave aberrant values, which illustrates that this loss is not appropriate for categorization, and gets out of hand. We use accuracy for model selection and performance assessment."
   ]
  },
  {
   "cell_type": "markdown",
   "metadata": {},
   "source": [
    "Manually choose best parameters"
   ]
  },
  {
   "cell_type": "code",
   "execution_count": 29,
   "metadata": {},
   "outputs": [],
   "source": [
    "best_degree = 10"
   ]
  },
  {
   "cell_type": "markdown",
   "metadata": {},
   "source": [
    "Compute performance on k splits with best parameters"
   ]
  },
  {
   "cell_type": "code",
   "execution_count": 30,
   "metadata": {},
   "outputs": [
    {
     "name": "stdout",
     "output_type": "stream",
     "text": [
      "Starting cross-validation 1/6 for least_squares, extended feature of degree 10 and arguments : None\n",
      "Starting cross-validation 2/6 for least_squares, extended feature of degree 10 and arguments : None\n",
      "Starting cross-validation 3/6 for least_squares, extended feature of degree 10 and arguments : None\n",
      "Starting cross-validation 4/6 for least_squares, extended feature of degree 10 and arguments : None\n",
      "Starting cross-validation 5/6 for least_squares, extended feature of degree 10 and arguments : None\n",
      "Starting cross-validation 6/6 for least_squares, extended feature of degree 10 and arguments : None\n"
     ]
    }
   ],
   "source": [
    "model = 'least_squares'\n",
    "seed = 1\n",
    "k_fold = 6\n",
    "k_indices = build_k_indices(y, k_fold, seed)\n",
    "params = None\n",
    "\n",
    "accs_te = []\n",
    "losses_te = []\n",
    "for k in range(k_fold):\n",
    "    _, loss_te, _, acc_te = cross_validation(y, tx, k_indices, k, model, best_degree, params, feedback = True)\n",
    "    accs_te.append(acc_te)\n",
    "    losses_te.append(loss_te)"
   ]
  },
  {
   "cell_type": "code",
   "execution_count": 31,
   "metadata": {},
   "outputs": [
    {
     "name": "stdout",
     "output_type": "stream",
     "text": [
      "Mean accuracy of best least squares model:  0.814\n"
     ]
    }
   ],
   "source": [
    "print('Mean accuracy of best least squares model: ', round(np.mean(accs_te),3))"
   ]
  },
  {
   "cell_type": "markdown",
   "metadata": {},
   "source": [
    "Store values for comparison with other models later"
   ]
  },
  {
   "cell_type": "code",
   "execution_count": 32,
   "metadata": {},
   "outputs": [],
   "source": [
    "np.save('best_models_perf/best_accs_' + model, accs_te)"
   ]
  },
  {
   "cell_type": "markdown",
   "metadata": {
    "tags": []
   },
   "source": [
    "# Ridge regression"
   ]
  },
  {
   "cell_type": "markdown",
   "metadata": {},
   "source": [
    "Preprocessing and parameters definition for optimization"
   ]
  },
  {
   "cell_type": "code",
   "execution_count": 33,
   "metadata": {},
   "outputs": [],
   "source": [
    "y, tx, ids, tX_mean, tX_std = preprocess_data(Y, tX, ids, mean=None, std=None, param={'Build_poly': False})\n",
    "\n",
    "seed = 1\n",
    "k_fold = 4 \n",
    "model = 'ridge_regression'\n",
    "degrees = np.arange(4,15,1)\n",
    "lambdas = np.logspace(-6,0,7)"
   ]
  },
  {
   "cell_type": "markdown",
   "metadata": {},
   "source": [
    "Parameters optimization"
   ]
  },
  {
   "cell_type": "code",
   "execution_count": 34,
   "metadata": {
    "scrolled": true,
    "tags": []
   },
   "outputs": [
    {
     "name": "stdout",
     "output_type": "stream",
     "text": [
      "Optimizing degree 4/14, model: ridge_regression, arguments: {'lambda': 1e-06}\n",
      "Optimizing degree 4/14, model: ridge_regression, arguments: {'lambda': 1e-05}\n",
      "Optimizing degree 4/14, model: ridge_regression, arguments: {'lambda': 0.0001}\n",
      "Optimizing degree 4/14, model: ridge_regression, arguments: {'lambda': 0.001}\n",
      "Optimizing degree 4/14, model: ridge_regression, arguments: {'lambda': 0.01}\n",
      "Optimizing degree 4/14, model: ridge_regression, arguments: {'lambda': 0.1}\n",
      "Optimizing degree 4/14, model: ridge_regression, arguments: {'lambda': 1.0}\n",
      "Optimizing degree 5/14, model: ridge_regression, arguments: {'lambda': 1e-06}\n",
      "Optimizing degree 5/14, model: ridge_regression, arguments: {'lambda': 1e-05}\n",
      "Optimizing degree 5/14, model: ridge_regression, arguments: {'lambda': 0.0001}\n",
      "Optimizing degree 5/14, model: ridge_regression, arguments: {'lambda': 0.001}\n",
      "Optimizing degree 5/14, model: ridge_regression, arguments: {'lambda': 0.01}\n",
      "Optimizing degree 5/14, model: ridge_regression, arguments: {'lambda': 0.1}\n",
      "Optimizing degree 5/14, model: ridge_regression, arguments: {'lambda': 1.0}\n",
      "Optimizing degree 6/14, model: ridge_regression, arguments: {'lambda': 1e-06}\n",
      "Optimizing degree 6/14, model: ridge_regression, arguments: {'lambda': 1e-05}\n",
      "Optimizing degree 6/14, model: ridge_regression, arguments: {'lambda': 0.0001}\n",
      "Optimizing degree 6/14, model: ridge_regression, arguments: {'lambda': 0.001}\n",
      "Optimizing degree 6/14, model: ridge_regression, arguments: {'lambda': 0.01}\n",
      "Optimizing degree 6/14, model: ridge_regression, arguments: {'lambda': 0.1}\n",
      "Optimizing degree 6/14, model: ridge_regression, arguments: {'lambda': 1.0}\n",
      "Optimizing degree 7/14, model: ridge_regression, arguments: {'lambda': 1e-06}\n",
      "Optimizing degree 7/14, model: ridge_regression, arguments: {'lambda': 1e-05}\n",
      "Optimizing degree 7/14, model: ridge_regression, arguments: {'lambda': 0.0001}\n",
      "Optimizing degree 7/14, model: ridge_regression, arguments: {'lambda': 0.001}\n",
      "Optimizing degree 7/14, model: ridge_regression, arguments: {'lambda': 0.01}\n",
      "Optimizing degree 7/14, model: ridge_regression, arguments: {'lambda': 0.1}\n",
      "Optimizing degree 7/14, model: ridge_regression, arguments: {'lambda': 1.0}\n",
      "Optimizing degree 8/14, model: ridge_regression, arguments: {'lambda': 1e-06}\n",
      "Optimizing degree 8/14, model: ridge_regression, arguments: {'lambda': 1e-05}\n",
      "Optimizing degree 8/14, model: ridge_regression, arguments: {'lambda': 0.0001}\n",
      "Optimizing degree 8/14, model: ridge_regression, arguments: {'lambda': 0.001}\n",
      "Optimizing degree 8/14, model: ridge_regression, arguments: {'lambda': 0.01}\n",
      "Optimizing degree 8/14, model: ridge_regression, arguments: {'lambda': 0.1}\n",
      "Optimizing degree 8/14, model: ridge_regression, arguments: {'lambda': 1.0}\n",
      "Optimizing degree 9/14, model: ridge_regression, arguments: {'lambda': 1e-06}\n",
      "Optimizing degree 9/14, model: ridge_regression, arguments: {'lambda': 1e-05}\n",
      "Optimizing degree 9/14, model: ridge_regression, arguments: {'lambda': 0.0001}\n",
      "Optimizing degree 9/14, model: ridge_regression, arguments: {'lambda': 0.001}\n",
      "Optimizing degree 9/14, model: ridge_regression, arguments: {'lambda': 0.01}\n",
      "Optimizing degree 9/14, model: ridge_regression, arguments: {'lambda': 0.1}\n",
      "Optimizing degree 9/14, model: ridge_regression, arguments: {'lambda': 1.0}\n",
      "Optimizing degree 10/14, model: ridge_regression, arguments: {'lambda': 1e-06}\n",
      "Optimizing degree 10/14, model: ridge_regression, arguments: {'lambda': 1e-05}\n",
      "Optimizing degree 10/14, model: ridge_regression, arguments: {'lambda': 0.0001}\n",
      "Optimizing degree 10/14, model: ridge_regression, arguments: {'lambda': 0.001}\n",
      "Optimizing degree 10/14, model: ridge_regression, arguments: {'lambda': 0.01}\n",
      "Optimizing degree 10/14, model: ridge_regression, arguments: {'lambda': 0.1}\n",
      "Optimizing degree 10/14, model: ridge_regression, arguments: {'lambda': 1.0}\n",
      "Optimizing degree 11/14, model: ridge_regression, arguments: {'lambda': 1e-06}\n",
      "Optimizing degree 11/14, model: ridge_regression, arguments: {'lambda': 1e-05}\n",
      "Optimizing degree 11/14, model: ridge_regression, arguments: {'lambda': 0.0001}\n",
      "Optimizing degree 11/14, model: ridge_regression, arguments: {'lambda': 0.001}\n",
      "Optimizing degree 11/14, model: ridge_regression, arguments: {'lambda': 0.01}\n",
      "Optimizing degree 11/14, model: ridge_regression, arguments: {'lambda': 0.1}\n",
      "Optimizing degree 11/14, model: ridge_regression, arguments: {'lambda': 1.0}\n",
      "Optimizing degree 12/14, model: ridge_regression, arguments: {'lambda': 1e-06}\n",
      "Optimizing degree 12/14, model: ridge_regression, arguments: {'lambda': 1e-05}\n",
      "Optimizing degree 12/14, model: ridge_regression, arguments: {'lambda': 0.0001}\n",
      "Optimizing degree 12/14, model: ridge_regression, arguments: {'lambda': 0.001}\n",
      "Optimizing degree 12/14, model: ridge_regression, arguments: {'lambda': 0.01}\n",
      "Optimizing degree 12/14, model: ridge_regression, arguments: {'lambda': 0.1}\n",
      "Optimizing degree 12/14, model: ridge_regression, arguments: {'lambda': 1.0}\n",
      "Optimizing degree 13/14, model: ridge_regression, arguments: {'lambda': 1e-06}\n",
      "Optimizing degree 13/14, model: ridge_regression, arguments: {'lambda': 1e-05}\n",
      "Optimizing degree 13/14, model: ridge_regression, arguments: {'lambda': 0.0001}\n",
      "Optimizing degree 13/14, model: ridge_regression, arguments: {'lambda': 0.001}\n",
      "Optimizing degree 13/14, model: ridge_regression, arguments: {'lambda': 0.01}\n",
      "Optimizing degree 13/14, model: ridge_regression, arguments: {'lambda': 0.1}\n",
      "Optimizing degree 13/14, model: ridge_regression, arguments: {'lambda': 1.0}\n",
      "Optimizing degree 14/14, model: ridge_regression, arguments: {'lambda': 1e-06}\n",
      "Optimizing degree 14/14, model: ridge_regression, arguments: {'lambda': 1e-05}\n",
      "Optimizing degree 14/14, model: ridge_regression, arguments: {'lambda': 0.0001}\n",
      "Optimizing degree 14/14, model: ridge_regression, arguments: {'lambda': 0.001}\n",
      "Optimizing degree 14/14, model: ridge_regression, arguments: {'lambda': 0.01}\n",
      "Optimizing degree 14/14, model: ridge_regression, arguments: {'lambda': 0.1}\n",
      "Optimizing degree 14/14, model: ridge_regression, arguments: {'lambda': 1.0}\n"
     ]
    }
   ],
   "source": [
    "losses_tr, losses_te, accs_tr, accs_te = params_optimization(y, tx, k_fold, model, degrees, lambdas, params = None, seed = seed, feedback = True)"
   ]
  },
  {
   "cell_type": "markdown",
   "metadata": {},
   "source": [
    "Here we optimized over 2 parameters, so we use heatmap to visualize best combination"
   ]
  },
  {
   "cell_type": "code",
   "execution_count": 35,
   "metadata": {},
   "outputs": [
    {
     "data": {
      "image/png": "[encoded data removed]",
      "text/plain": [
       "<Figure size 1080x576 with 2 Axes>"
      ]
     },
     "metadata": {
      "needs_background": "light"
     },
     "output_type": "display_data"
    }
   ],
   "source": [
    "plot_heatmap(accs_tr, accs_te, degrees, lambdas, model, measure_type = 'Accuracy', save_img = True, img_name = 'Heatmap_accuracy_ridge_regression')"
   ]
  },
  {
   "cell_type": "markdown",
   "metadata": {},
   "source": [
    "Manually choose best parameters"
   ]
  },
  {
   "cell_type": "code",
   "execution_count": 36,
   "metadata": {},
   "outputs": [],
   "source": [
    "best_lambda = 1e-6\n",
    "best_degree = 11"
   ]
  },
  {
   "cell_type": "markdown",
   "metadata": {},
   "source": [
    "Compute performance on k splits with best parameters"
   ]
  },
  {
   "cell_type": "code",
   "execution_count": 37,
   "metadata": {},
   "outputs": [
    {
     "name": "stdout",
     "output_type": "stream",
     "text": [
      "Starting cross-validation 1/6 for ridge_regression, extended feature of degree 11 and arguments : {'lambda': 1e-06}\n",
      "Starting cross-validation 2/6 for ridge_regression, extended feature of degree 11 and arguments : {'lambda': 1e-06}\n",
      "Starting cross-validation 3/6 for ridge_regression, extended feature of degree 11 and arguments : {'lambda': 1e-06}\n",
      "Starting cross-validation 4/6 for ridge_regression, extended feature of degree 11 and arguments : {'lambda': 1e-06}\n",
      "Starting cross-validation 5/6 for ridge_regression, extended feature of degree 11 and arguments : {'lambda': 1e-06}\n",
      "Starting cross-validation 6/6 for ridge_regression, extended feature of degree 11 and arguments : {'lambda': 1e-06}\n"
     ]
    }
   ],
   "source": [
    "model = 'ridge_regression'\n",
    "seed = 1\n",
    "k_fold = 6\n",
    "k_indices = build_k_indices(y, k_fold, seed)\n",
    "params = {'lambda' : best_lambda}\n",
    "\n",
    "accs_te = []\n",
    "losses_te = []\n",
    "for k in range(k_fold):\n",
    "    _, loss_te, _, acc_te = cross_validation(y, tx, k_indices, k, model, best_degree, params, feedback = True)\n",
    "    accs_te.append(acc_te)\n",
    "    losses_te.append(loss_te)"
   ]
  },
  {
   "cell_type": "code",
   "execution_count": 38,
   "metadata": {},
   "outputs": [
    {
     "name": "stdout",
     "output_type": "stream",
     "text": [
      "Mean accuracy of best ridge regression model:  0.816\n"
     ]
    }
   ],
   "source": [
    "print('Mean accuracy of best ridge regression model: ', round(np.mean(accs_te),3))"
   ]
  },
  {
   "cell_type": "markdown",
   "metadata": {},
   "source": [
    "Store values for comparison with other models later"
   ]
  },
  {
   "cell_type": "code",
   "execution_count": 39,
   "metadata": {},
   "outputs": [],
   "source": [
    "np.save('best_models_perf/best_accs_' + model, accs_te)\n",
    "#np.save('best_models_perf/best_losses_' + model, losses_te)"
   ]
  },
  {
   "cell_type": "markdown",
   "metadata": {},
   "source": [
    "## Generate predictions and save ouput in csv format for submission:"
   ]
  },
  {
   "cell_type": "code",
   "execution_count": 40,
   "metadata": {
    "collapsed": false,
    "jupyter": {
     "outputs_hidden": false
    }
   },
   "outputs": [],
   "source": [
    "DATA_TEST_PATH = '../Projet_1_data/test.csv' # TODO: download train data and supply path here \n",
    "_, tX_test, ids_test = load_csv_data(DATA_TEST_PATH)"
   ]
  },
  {
   "cell_type": "code",
   "execution_count": null,
   "metadata": {},
   "outputs": [],
   "source": [
    "\"\"\"\"\"\""
   ]
  },
  {
   "cell_type": "markdown",
   "metadata": {},
   "source": [
    "Ridge trial submission"
   ]
  },
  {
   "cell_type": "markdown",
   "metadata": {},
   "source": [
    "Model creation and test_data preprocessing"
   ]
  },
  {
   "cell_type": "code",
   "execution_count": 41,
   "metadata": {},
   "outputs": [],
   "source": [
    "y, tx, ids, tX_mean, tX_std = preprocess_data(Y, tX, ids, mean=None, std=None, param={'Build_poly': True, 'Degree_poly' : 11})\n",
    "best_lambda = 1e-6\n",
    "weights, loss = ridge_regression(y, tx, best_lambda)\n",
    "\n",
    "_, tX_test, ids_test, tX_mean_test, tX_std_test = preprocess_data(_, tX_test, ids_test, mean=None, std=None, param={'Build_poly': True, 'Degree_poly' : 11})"
   ]
  },
  {
   "cell_type": "code",
   "execution_count": null,
   "metadata": {},
   "outputs": [],
   "source": [
    "\"\"\"\"\"\""
   ]
  },
  {
   "cell_type": "code",
   "execution_count": 42,
   "metadata": {
    "collapsed": false,
    "jupyter": {
     "outputs_hidden": false
    }
   },
   "outputs": [],
   "source": [
    "OUTPUT_PATH = 'submissions/ridge_1' # TODO: fill in desired name of output file for submission\n",
    "y_pred = predict_labels(weights, tX_test)\n",
    "create_csv_submission(ids_test, y_pred, OUTPUT_PATH)"
   ]
  },
  {
   "cell_type": "code",
   "execution_count": null,
   "metadata": {
    "collapsed": true,
    "jupyter": {
     "outputs_hidden": true
    }
   },
   "outputs": [],
   "source": []
  }
 ],
 "metadata": {
  "anaconda-cloud": {},
  "kernelspec": {
   "display_name": "Python 3",
   "language": "python",
   "name": "python3"
  },
  "language_info": {
   "codemirror_mode": {
    "name": "ipython",
    "version": 3
   },
   "file_extension": ".py",
   "mimetype": "text/x-python",
   "name": "python",
   "nbconvert_exporter": "python",
   "pygments_lexer": "ipython3",
   "version": "3.8.3"
  }
 },
 "nbformat": 4,
 "nbformat_minor": 4
}
